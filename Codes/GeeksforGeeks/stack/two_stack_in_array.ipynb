{
 "cells": [
  {
   "cell_type": "code",
   "execution_count": 8,
   "metadata": {},
   "outputs": [],
   "source": [
    "class twoStack:\n",
    "    def __init__(self,n):\n",
    "        self.size = n\n",
    "        self.arr = [None] * n\n",
    "        self.top1 = -1\n",
    "        self.top2 = self.size\n",
    "    \n",
    "    def push1(self,item):\n",
    "        if self.top1 < self.top2 - 1:\n",
    "            self.top1 = self.top1 + 1\n",
    "            self.arr[self.top1] = item\n",
    "        else:\n",
    "            print('Stack overflow')\n",
    "            exit(1)\n",
    "    \n",
    "    def push2(self,item):\n",
    "        if self.top1 < self.top2 -1:\n",
    "            self.top2 = self.top2 -1\n",
    "            self.arr[self.top2] = item\n",
    "        else:\n",
    "            print('Stack overflow')\n",
    "            exit(1)\n",
    "    \n",
    "    def pop1(self):\n",
    "        if self.top1 >= 0:\n",
    "            x = self.arr[self.top1]\n",
    "            self.arr[self.top1] = None\n",
    "            self.top1 = self.top1 -1\n",
    "            return x\n",
    "        else:\n",
    "            print('Stack Underflow')\n",
    "            exit(1)\n",
    "            \n",
    "    def pop2(self):\n",
    "        if self.top2 < self.size:\n",
    "            x = self.arr[self.top2]\n",
    "            self.arr[self.top2] = None\n",
    "            self.top2 = self.top2 + 1\n",
    "            return x\n",
    "        else:\n",
    "            print('Stack Underflow')\n",
    "            exit(1)\n",
    "    def get_stack(self):\n",
    "        return self.arr\n"
   ]
  },
  {
   "cell_type": "code",
   "execution_count": 9,
   "metadata": {},
   "outputs": [
    {
     "name": "stdout",
     "output_type": "stream",
     "text": [
      "[5, None, None, None, None]\n",
      "[5, None, None, None, 10]\n",
      "[5, 15, None, None, 10]\n",
      "[5, 15, 7, None, 10]\n"
     ]
    }
   ],
   "source": [
    "ts = twoStack(5)\n",
    "ts.push1(5)\n",
    "print(ts.get_stack())\n",
    "ts.push2(10)\n",
    "print(ts.get_stack())\n",
    "ts.push1(15)\n",
    "print(ts.get_stack())\n",
    "ts.push1(7)\n",
    "print(ts.get_stack())"
   ]
  },
  {
   "cell_type": "code",
   "execution_count": 10,
   "metadata": {},
   "outputs": [
    {
     "name": "stdout",
     "output_type": "stream",
     "text": [
      "[5, 15, 7, 8, 10]\n"
     ]
    }
   ],
   "source": [
    "ts.push1(8)\n",
    "print(ts.get_stack())"
   ]
  },
  {
   "cell_type": "code",
   "execution_count": 11,
   "metadata": {},
   "outputs": [
    {
     "name": "stdout",
     "output_type": "stream",
     "text": [
      "Stack overflow\n"
     ]
    }
   ],
   "source": [
    "ts.push2(9)"
   ]
  },
  {
   "cell_type": "code",
   "execution_count": 12,
   "metadata": {},
   "outputs": [
    {
     "name": "stdout",
     "output_type": "stream",
     "text": [
      "8\n"
     ]
    }
   ],
   "source": [
    "print(ts.pop1())\n"
   ]
  },
  {
   "cell_type": "code",
   "execution_count": 13,
   "metadata": {},
   "outputs": [
    {
     "name": "stdout",
     "output_type": "stream",
     "text": [
      "[5, 15, 7, None, 10]\n"
     ]
    }
   ],
   "source": [
    "print(ts.get_stack())"
   ]
  },
  {
   "cell_type": "code",
   "execution_count": null,
   "metadata": {},
   "outputs": [],
   "source": []
  }
 ],
 "metadata": {
  "kernelspec": {
   "display_name": "Python 3",
   "language": "python",
   "name": "python3"
  },
  "language_info": {
   "codemirror_mode": {
    "name": "ipython",
    "version": 3
   },
   "file_extension": ".py",
   "mimetype": "text/x-python",
   "name": "python",
   "nbconvert_exporter": "python",
   "pygments_lexer": "ipython3",
   "version": "3.7.3"
  }
 },
 "nbformat": 4,
 "nbformat_minor": 2
}
