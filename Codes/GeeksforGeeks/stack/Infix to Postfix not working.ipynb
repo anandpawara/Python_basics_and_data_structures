{
 "cells": [
  {
   "cell_type": "markdown",
   "metadata": {},
   "source": [
    "<b>Algorithm</b><br>\n",
    "1.Scan the infix expression from left to right<br>\n",
    "2.If the scanned character is an operand,output<br>\n",
    "3.Else, <br>\n",
    "    3.1 If the precedence of the scanned operator is greater thanthe precedence of the operator in the stack(or the stack is empty or the stack contains '(' ,push onto stack.<br>\n",
    "    3.2 Else pop all the operators from the stack which are greater than or equal to in precedence than that of the scanned opererator.After doing that push the scanned operator to the stack<br>\n",
    "4.If the scanned character is in '(' ,push to the stack\n",
    "5.If the scanned character is in ')' ,pop the stack and output it until '(' is encountered, and discard both the parenthisis<br>\n",
    "6.Repeat steps 2-6 until expression is scanned.<br>\n",
    "7.Print the output<br>\n",
    "8.Pop and output from the stack until it is not empty<br>"
   ]
  },
  {
   "cell_type": "code",
   "execution_count": 10,
   "metadata": {},
   "outputs": [],
   "source": [
    "class Conversion:\n",
    "    \n",
    "    def __init__(self,capacity):\n",
    "        self.top = -1\n",
    "        self.capacity = capacity\n",
    "        self.array = []\n",
    "        self.output = []\n",
    "        self.precedence = {'+':1,'-':1,'*':2,'/':2,'*':3}\n",
    "        \n",
    "    def isEmpty(self):\n",
    "        return True if self.top == -1 else False\n",
    "    \n",
    "    def peek(self):\n",
    "        return self.array[-1]\n",
    "    \n",
    "    def pop(self):\n",
    "        if not self.isEmpty():\n",
    "            self.top = -1\n",
    "            return self.array.pop()\n",
    "        else:\n",
    "            return '$'\n",
    "    \n",
    "    def push(self,op):\n",
    "        self.top += 1\n",
    "        self.array.append(op)\n",
    "    \n",
    "    def isOperand(self,ch):\n",
    "        return ch.isalpha()\n",
    "    \n",
    "    def notGreater(self,i):\n",
    "        try:\n",
    "            a = self.precendence[i]\n",
    "            b = self.precendence[self.peek()]\n",
    "            return True if a <= b else False\n",
    "        except KeyError:\n",
    "            return False\n",
    "    def infixToPostfix(self,exp):\n",
    "        for i in exp:\n",
    "            if self.isOperand(i):\n",
    "                self.output.append(i)\n",
    "            elif i == '(':\n",
    "                self.push(i)\n",
    "                \n",
    "            elif i == ')':\n",
    "                while((not self.isEmpty()) and self.peek != '('):\n",
    "                    a = self.pop()\n",
    "                    self.output.append(a)\n",
    "                if( not self.isEmpty() and self.peek() != '('):\n",
    "                    return -1\n",
    "                else:\n",
    "                    self.pop()\n",
    "            else:\n",
    "                while(not self.isEmpty() and self.notGreater(i)):\n",
    "                    self.output.append(self.pop())\n",
    "                self.push(i)\n",
    "            while not self.isEmpty():\n",
    "                self.output.append(self.pop())\n",
    "            \n",
    "            print(''.join(self.output))\n",
    "            "
   ]
  },
  {
   "cell_type": "code",
   "execution_count": 11,
   "metadata": {},
   "outputs": [
    {
     "name": "stdout",
     "output_type": "stream",
     "text": [
      "a\n",
      "a+\n",
      "a+b\n",
      "a+b*\n",
      "a+b*(\n",
      "a+b*(c\n",
      "a+b*(c^\n",
      "a+b*(c^d\n",
      "a+b*(c^d-\n",
      "a+b*(c^d-e\n",
      "a+b*(c^d-e\n",
      "a+b*(c^d-e^\n",
      "a+b*(c^d-e^(\n",
      "a+b*(c^d-e^(f\n",
      "a+b*(c^d-e^(f+\n",
      "a+b*(c^d-e^(f+g\n",
      "a+b*(c^d-e^(f+g*\n",
      "a+b*(c^d-e^(f+g*h\n",
      "a+b*(c^d-e^(f+g*h\n",
      "a+b*(c^d-e^(f+g*h-\n",
      "a+b*(c^d-e^(f+g*h-i\n"
     ]
    }
   ],
   "source": [
    "exp = 'a+b*(c^d-e)^(f+g*h)-i'\n",
    "obj = Conversion(len(exp))\n",
    "obj.infixToPostfix(exp)"
   ]
  },
  {
   "cell_type": "code",
   "execution_count": null,
   "metadata": {},
   "outputs": [],
   "source": []
  }
 ],
 "metadata": {
  "kernelspec": {
   "display_name": "Python 3",
   "language": "python",
   "name": "python3"
  },
  "language_info": {
   "codemirror_mode": {
    "name": "ipython",
    "version": 3
   },
   "file_extension": ".py",
   "mimetype": "text/x-python",
   "name": "python",
   "nbconvert_exporter": "python",
   "pygments_lexer": "ipython3",
   "version": "3.7.3"
  }
 },
 "nbformat": 4,
 "nbformat_minor": 2
}
