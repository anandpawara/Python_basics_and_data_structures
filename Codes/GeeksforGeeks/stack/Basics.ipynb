{
 "cells": [
  {
   "cell_type": "markdown",
   "metadata": {},
   "source": [
    "Stack is a data structure where data is stored and retrieved in LIFO(Last in first out) manner."
   ]
  },
  {
   "cell_type": "markdown",
   "metadata": {},
   "source": [
    "Basic operation of stack are:<br>\n",
    "Push<br>\n",
    "Pop<br>\n",
    "Peek or top<br>\n",
    "isEmpty<br>"
   ]
  },
  {
   "cell_type": "markdown",
   "metadata": {},
   "source": [
    "There are two ways of implement stack:<br>\n",
    ". Using array<br>\n",
    ". Using linked list<br>"
   ]
  },
  {
   "cell_type": "markdown",
   "metadata": {},
   "source": [
    "<b>Stack using arrays<b>"
   ]
  },
  {
   "cell_type": "code",
   "execution_count": 1,
   "metadata": {},
   "outputs": [],
   "source": [
    "from sys import maxsize\n",
    "\n",
    "def createStack():\n",
    "    stack = []\n",
    "    return stack\n",
    "\n",
    "def isEmpty(stack):\n",
    "    return len(stack) == 0\n",
    "\n",
    "def push(stack,item):\n",
    "    stack.append(item)\n",
    "    return stack\n",
    "\n",
    "def pop(stack):\n",
    "    if (isEmpty(stack)):\n",
    "        return str(-maxsize - 1) # Returns negative infinite\n",
    "    return stack.pop()\n",
    "\n",
    "def peek(stack):\n",
    "    if (isEmpty(stack)):\n",
    "        return str(-maxsize -1)\n",
    "    return stack[len[stack] -1]"
   ]
  },
  {
   "cell_type": "code",
   "execution_count": 2,
   "metadata": {},
   "outputs": [
    {
     "name": "stdout",
     "output_type": "stream",
     "text": [
      "Stack before poping ['10', '20', '30']\n"
     ]
    }
   ],
   "source": [
    "stack = createStack()\n",
    "push(stack,str(10))\n",
    "push(stack,str(20))\n",
    "push(stack,str(30))\n",
    "print(\"Stack before poping\",stack)"
   ]
  },
  {
   "cell_type": "code",
   "execution_count": 3,
   "metadata": {},
   "outputs": [
    {
     "name": "stdout",
     "output_type": "stream",
     "text": [
      "30 popped from stack\n"
     ]
    }
   ],
   "source": [
    "print(pop(stack) + ' popped from stack')"
   ]
  },
  {
   "cell_type": "markdown",
   "metadata": {},
   "source": [
    "<b>Linked List implementation of stack</b>"
   ]
  },
  {
   "cell_type": "code",
   "execution_count": 4,
   "metadata": {},
   "outputs": [],
   "source": [
    "class StackNode:\n",
    "    def __init__(self,data):\n",
    "        self.data = data\n",
    "        self.next = None\n",
    "\n",
    "class Stack:\n",
    "    def __init__(self):\n",
    "        self.root = None\n",
    "    \n",
    "    def isEmpty(self):\n",
    "        return True if self.root is None else False\n",
    "    \n",
    "    def push(self,data):\n",
    "        newNode = StackNode(data)\n",
    "        newNode.next = self.root\n",
    "        self.root = newNode\n",
    "        print('{} is push onto stack'.format(data))\n",
    "    \n",
    "    def pop(self):\n",
    "        if (self.isEmpty()):\n",
    "            return float('-inf')\n",
    "        temp = self.root\n",
    "        self.root = self.root.next\n",
    "        return temp.data\n",
    "    \n",
    "    def peek(self):\n",
    "        if (self.isEmpty()):\n",
    "            return float('-inf')\n",
    "        return self.root.data\n",
    "        "
   ]
  },
  {
   "cell_type": "code",
   "execution_count": 5,
   "metadata": {},
   "outputs": [
    {
     "name": "stdout",
     "output_type": "stream",
     "text": [
      "10 is push onto stack\n",
      "20 is push onto stack\n",
      "30 is push onto stack\n"
     ]
    }
   ],
   "source": [
    "stack = Stack()\n",
    "stack.push(10)\n",
    "stack.push(20)\n",
    "stack.push(30)"
   ]
  },
  {
   "cell_type": "code",
   "execution_count": 6,
   "metadata": {},
   "outputs": [
    {
     "name": "stdout",
     "output_type": "stream",
     "text": [
      "30 element popped from stack\n"
     ]
    }
   ],
   "source": [
    "print('{} element popped from stack'.format(stack.pop()))"
   ]
  },
  {
   "cell_type": "code",
   "execution_count": 7,
   "metadata": {},
   "outputs": [
    {
     "name": "stdout",
     "output_type": "stream",
     "text": [
      "20 is the top of stack\n"
     ]
    }
   ],
   "source": [
    "print('{} is the top of stack'.format(stack.peek()))"
   ]
  }
 ],
 "metadata": {
  "kernelspec": {
   "display_name": "Python 3",
   "language": "python",
   "name": "python3"
  },
  "language_info": {
   "codemirror_mode": {
    "name": "ipython",
    "version": 3
   },
   "file_extension": ".py",
   "mimetype": "text/x-python",
   "name": "python",
   "nbconvert_exporter": "python",
   "pygments_lexer": "ipython3",
   "version": "3.7.3"
  }
 },
 "nbformat": 4,
 "nbformat_minor": 2
}
