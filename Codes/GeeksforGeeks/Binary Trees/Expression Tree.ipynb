{
 "cells": [
  {
   "cell_type": "markdown",
   "metadata": {},
   "source": [
    "Use of creating expression tree is that it can be used to create infix, prefix or postfix expression"
   ]
  },
  {
   "cell_type": "markdown",
   "metadata": {},
   "source": [
    "Evaluating expression represented by expression tree"
   ]
  },
  {
   "cell_type": "raw",
   "metadata": {},
   "source": [
    "Let t be the expresson tree\n",
    "If t is not null then:\n",
    "    If t.value is operand then:\n",
    "        return t.value\n",
    "   A = solve(t.left)\n",
    "   B = solve(t.right)\n",
    "   return calculate(A,B,t.value)"
   ]
  },
  {
   "cell_type": "code",
   "execution_count": 1,
   "metadata": {},
   "outputs": [],
   "source": [
    "class Et:\n",
    "    def __init__(self,value):\n",
    "        self.value = value\n",
    "        self.left = None\n",
    "        self.right = None\n",
    "        \n",
    "    def isOperator(c):\n",
    "        if(c == '+' or c == '-' or c == '*' or c == '/' or c == '^'):\n",
    "            return True\n",
    "        else:\n",
    "            return False\n",
    "    def inorder(t):\n",
    "        if t is not None:\n",
    "            inorder(t.left)\n",
    "            print(t.value)\n",
    "            inorder(t.right)\n",
    "    \n",
    "    def constructTree(postfix):\n",
    "        stack = []\n",
    "        \n",
    "        for char in postfix:\n",
    "            #if is an operand then push onto stack\n",
    "            if not isOperator(char):\n",
    "                t = Et(char)\n",
    "                stack.append(t)\n",
    "            #if is an operator then pop\n",
    "            \n",
    "            else:\n",
    "                # Pop top two nodes\n",
    "                t = Et(char)\n",
    "                t1 = stack.pop()\n",
    "                t2 = stack.pop()\n",
    "                \n",
    "                #make them children\n",
    "                t.right = t1\n",
    "                t.left = t2\n",
    "                \n",
    "                stack.append(t)\n",
    "                \n",
    "        # Only element will the be the root of expression tree\n",
    "        t = stack.pop()\n",
    "        return t\n",
    "    "
   ]
  },
  {
   "cell_type": "code",
   "execution_count": null,
   "metadata": {},
   "outputs": [],
   "source": []
  }
 ],
 "metadata": {
  "kernelspec": {
   "display_name": "Python 3",
   "language": "python",
   "name": "python3"
  },
  "language_info": {
   "codemirror_mode": {
    "name": "ipython",
    "version": 3
   },
   "file_extension": ".py",
   "mimetype": "text/x-python",
   "name": "python",
   "nbconvert_exporter": "python",
   "pygments_lexer": "ipython3",
   "version": "3.7.3"
  }
 },
 "nbformat": 4,
 "nbformat_minor": 2
}
