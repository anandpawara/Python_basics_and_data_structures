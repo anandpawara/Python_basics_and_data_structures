{
 "cells": [
  {
   "cell_type": "code",
   "execution_count": 1,
   "metadata": {},
   "outputs": [],
   "source": [
    "class Node:\n",
    "    def __init__(self,key):\n",
    "        self.left = None\n",
    "        self.right = None\n",
    "        self.val = key\n",
    "    \n",
    "    \n",
    "    "
   ]
  },
  {
   "cell_type": "code",
   "execution_count": 2,
   "metadata": {},
   "outputs": [],
   "source": [
    "def printInorder(root):\n",
    "        if root:\n",
    "            printInorder(root.left)\n",
    "            \n",
    "            print(root.val),\n",
    "            \n",
    "            printInorder(root.right)\n",
    "    "
   ]
  },
  {
   "cell_type": "code",
   "execution_count": 3,
   "metadata": {},
   "outputs": [],
   "source": [
    "def printPostorder(root):\n",
    "    if root:\n",
    "        printPostorder(root.left)\n",
    "        printPostorder(root.right)\n",
    "        print(root.val)\n",
    "        "
   ]
  },
  {
   "cell_type": "code",
   "execution_count": 4,
   "metadata": {},
   "outputs": [],
   "source": [
    "def printPreorder(root):\n",
    "    if root:\n",
    "        print(root.val)\n",
    "        printInorder(root.left)\n",
    "        printInorder(root.right)\n",
    "        "
   ]
  },
  {
   "cell_type": "code",
   "execution_count": 5,
   "metadata": {},
   "outputs": [],
   "source": [
    "root = Node(1)\n",
    "root.left = Node(2)\n",
    "root.right = Node(3)\n",
    "root.left.left = Node(4)\n",
    "root.left.right = Node(5)"
   ]
  },
  {
   "cell_type": "code",
   "execution_count": 6,
   "metadata": {},
   "outputs": [
    {
     "name": "stdout",
     "output_type": "stream",
     "text": [
      "Preorder traversal of binary tree is\n",
      "1\n",
      "4\n",
      "2\n",
      "5\n",
      "3\n"
     ]
    }
   ],
   "source": [
    "print('Preorder traversal of binary tree is')\n",
    "printPreorder(root)"
   ]
  },
  {
   "cell_type": "code",
   "execution_count": 7,
   "metadata": {},
   "outputs": [
    {
     "name": "stdout",
     "output_type": "stream",
     "text": [
      "Inorder traversal of binary tree is\n",
      "4\n",
      "2\n",
      "5\n",
      "1\n",
      "3\n"
     ]
    }
   ],
   "source": [
    "print('Inorder traversal of binary tree is')\n",
    "printInorder(root)"
   ]
  },
  {
   "cell_type": "code",
   "execution_count": null,
   "metadata": {},
   "outputs": [],
   "source": [
    "print('PostOrder traversal of binary tree is')\n",
    "printInorder(root)"
   ]
  }
 ],
 "metadata": {
  "kernelspec": {
   "display_name": "Python 3",
   "language": "python",
   "name": "python3"
  },
  "language_info": {
   "codemirror_mode": {
    "name": "ipython",
    "version": 3
   },
   "file_extension": ".py",
   "mimetype": "text/x-python",
   "name": "python",
   "nbconvert_exporter": "python",
   "pygments_lexer": "ipython3",
   "version": "3.7.3"
  }
 },
 "nbformat": 4,
 "nbformat_minor": 2
}
