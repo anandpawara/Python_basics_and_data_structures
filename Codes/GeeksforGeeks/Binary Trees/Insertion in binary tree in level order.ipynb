{
 "cells": [
  {
   "cell_type": "markdown",
   "metadata": {},
   "source": [
    "Link to tutorial - https://www.geeksforgeeks.org/binary-tree-set-1-introduction/"
   ]
  },
  {
   "cell_type": "markdown",
   "metadata": {},
   "source": [
    "Creating simple Tree  with 4 notes "
   ]
  },
  {
   "cell_type": "code",
   "execution_count": 1,
   "metadata": {},
   "outputs": [],
   "source": [
    "class Node:\n",
    "    def __init__(self,key):\n",
    "        self.left = None\n",
    "        self.right = None\n",
    "        self.val = key"
   ]
  },
  {
   "cell_type": "code",
   "execution_count": 2,
   "metadata": {},
   "outputs": [],
   "source": [
    "root = Node(1)\n",
    "root.left = Node(2)\n",
    "root.right = Node(3)"
   ]
  },
  {
   "cell_type": "code",
   "execution_count": 3,
   "metadata": {},
   "outputs": [],
   "source": [
    "root.left.left = Node(4)"
   ]
  },
  {
   "cell_type": "markdown",
   "metadata": {},
   "source": [
    "<b>Insertion in binary in level order</b>"
   ]
  },
  {
   "cell_type": "code",
   "execution_count": 15,
   "metadata": {},
   "outputs": [
    {
     "name": "stdout",
     "output_type": "stream",
     "text": [
      "Inorder traversal before insertion: \n",
      "\n",
      "7 11 10 15 9 8 \n",
      "Inorder traversal after insertion:\n",
      "\n",
      "7 11 12 10 15 9 8 "
     ]
    }
   ],
   "source": [
    "class newNode():\n",
    "    def __init__(self,data):\n",
    "        self.key = data\n",
    "        self.left = None\n",
    "        self.right = None\n",
    "        \n",
    "def inorder(temp):\n",
    "    if(not temp):\n",
    "        return \n",
    "    inorder(temp.left)\n",
    "    print(temp.key,end = ' ')\n",
    "    inorder(temp.right)\n",
    "\n",
    "def insert(temp,key):\n",
    "    q = []\n",
    "    q.append(temp)\n",
    "\n",
    "    while(len(q)):\n",
    "        temp = q[0]\n",
    "        q.pop(0)\n",
    "\n",
    "        if (not temp.left):\n",
    "            temp.left = newNode(key)\n",
    "            break\n",
    "        else:\n",
    "            q.append(temp.left)\n",
    "\n",
    "        if (not temp.right):\n",
    "            temp.right = newNode(key)\n",
    "            break\n",
    "        else:\n",
    "            q.append(temp.right)\n",
    "\n",
    "\n",
    "if __name__ == '__main__':\n",
    "    root = newNode(10)\n",
    "    root.left = newNode(11)\n",
    "    root.left.left = newNode(7)\n",
    "    root.right = newNode(9)\n",
    "    root.right.left = newNode(15)\n",
    "    root.right.right = newNode(8)\n",
    "    \n",
    "    print('Inorder traversal before insertion: \\n')\n",
    "    inorder(root)\n",
    "    key = 12\n",
    "    insert(root,key)\n",
    "    print('\\nInorder traversal after insertion:\\n')\n",
    "    inorder(root)\n",
    "        "
   ]
  },
  {
   "cell_type": "code",
   "execution_count": null,
   "metadata": {},
   "outputs": [],
   "source": []
  }
 ],
 "metadata": {
  "kernelspec": {
   "display_name": "Python 3",
   "language": "python",
   "name": "python3"
  },
  "language_info": {
   "codemirror_mode": {
    "name": "ipython",
    "version": 3
   },
   "file_extension": ".py",
   "mimetype": "text/x-python",
   "name": "python",
   "nbconvert_exporter": "python",
   "pygments_lexer": "ipython3",
   "version": "3.7.3"
  }
 },
 "nbformat": 4,
 "nbformat_minor": 2
}
