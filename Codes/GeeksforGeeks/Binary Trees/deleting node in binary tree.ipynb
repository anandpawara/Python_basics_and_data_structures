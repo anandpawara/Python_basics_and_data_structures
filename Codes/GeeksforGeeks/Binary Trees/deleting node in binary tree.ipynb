{
 "cells": [
  {
   "cell_type": "code",
   "execution_count": 8,
   "metadata": {},
   "outputs": [],
   "source": [
    "class Node:\n",
    "    def __init__(self,data):\n",
    "        self.left = None\n",
    "        self.right = None\n",
    "        self.data = data\n",
    "def inorder(temp):\n",
    "    if(not temp):\n",
    "        return\n",
    "    inorder(temp.left)\n",
    "    print(temp.data, end = ' ')\n",
    "    inorder(temp.right)\n",
    "\n"
   ]
  },
  {
   "cell_type": "code",
   "execution_count": 9,
   "metadata": {},
   "outputs": [],
   "source": [
    "def deleteDeepest(root,d_node):\n",
    "    q = [] \n",
    "    q.append(root)\n",
    "    while(len(q)):\n",
    "        temp = q.pop(0)\n",
    "        if temp is d_node:\n",
    "            temp = None\n",
    "            return\n",
    "        if temp.right:\n",
    "            if temp.right is d_node:\n",
    "                temp.right = None\n",
    "                return\n",
    "            else:\n",
    "                q.append(temp.right)\n",
    "        if temp.left:\n",
    "            if temp.left is d_node:\n",
    "                temp.left = None\n",
    "                return\n",
    "            else:\n",
    "                q.append(temp.left)\n",
    "                "
   ]
  },
  {
   "cell_type": "code",
   "execution_count": 10,
   "metadata": {},
   "outputs": [],
   "source": [
    "def deletion(root,key):\n",
    "    if root == None:\n",
    "        return\n",
    "    if root.left == None and root.right == Nonde:\n",
    "        if root.key == key:\n",
    "            return None\n",
    "        else :\n",
    "            return root\n",
    "    key_node = None\n",
    "    q = []\n",
    "    q.append(root)\n",
    "    while(len(q)):\n",
    "        temp = q.pop(0)\n",
    "        if temp.data == key:\n",
    "            key_node = temp\n",
    "        if temp.left:\n",
    "            q.append(temp.left)\n",
    "        if temp.right:\n",
    "            q.append(temp.right)\n",
    "    if key_node:\n",
    "        x = temp.data\n",
    "        deleteDeepest(root,temp)\n",
    "        key_node.data = x\n",
    "    return root"
   ]
  },
  {
   "cell_type": "code",
   "execution_count": 11,
   "metadata": {},
   "outputs": [
    {
     "name": "stdout",
     "output_type": "stream",
     "text": [
      "The tree before the deletion\n",
      "7 11 12 10 15 9 8 \n",
      "The tree after the deletion\n",
      "7 8 12 10 15 9 "
     ]
    }
   ],
   "source": [
    "if __name__ == '__main__':\n",
    "    root = Node(10)\n",
    "    root.left = Node(11)\n",
    "    root.left.left = Node(7)\n",
    "    root.left.right = Node(12)\n",
    "    root.right = Node(9)\n",
    "    root.right.left = Node(15)\n",
    "    root.right.right = Node(8)\n",
    "    print('The tree before the deletion')\n",
    "    inorder(root)\n",
    "    key = 11\n",
    "    root = deletion(root,key)\n",
    "    print()\n",
    "    print('The tree after the deletion')\n",
    "    inorder(root)\n",
    "    "
   ]
  },
  {
   "cell_type": "code",
   "execution_count": null,
   "metadata": {},
   "outputs": [],
   "source": []
  }
 ],
 "metadata": {
  "kernelspec": {
   "display_name": "Python 3",
   "language": "python",
   "name": "python3"
  },
  "language_info": {
   "codemirror_mode": {
    "name": "ipython",
    "version": 3
   },
   "file_extension": ".py",
   "mimetype": "text/x-python",
   "name": "python",
   "nbconvert_exporter": "python",
   "pygments_lexer": "ipython3",
   "version": "3.7.3"
  }
 },
 "nbformat": 4,
 "nbformat_minor": 2
}
