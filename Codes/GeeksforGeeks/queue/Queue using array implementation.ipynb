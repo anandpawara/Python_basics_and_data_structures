{
 "cells": [
  {
   "cell_type": "markdown",
   "metadata": {},
   "source": [
    "Queue implementation using array"
   ]
  },
  {
   "cell_type": "code",
   "execution_count": 7,
   "metadata": {},
   "outputs": [],
   "source": [
    "class Queue:\n",
    "    def __init__(self,capacity):\n",
    "        self.front = self.size = 0\n",
    "        self.rear = capacity - 1\n",
    "        self.Q = [None] * capacity\n",
    "        self.capacity = capacity\n",
    "    \n",
    "    def isFull(self):\n",
    "        return self.size == self.capacity\n",
    "    \n",
    "    def isEmpty(self):\n",
    "        return self.size == 0\n",
    "    \n",
    "    def EnQueue(self,item):\n",
    "        if self.isFull():\n",
    "            print(\"Full\")\n",
    "            return\n",
    "        self.rear = (self.rear + 1) % (self.capacity)\n",
    "        self.Q[self.rear] = item\n",
    "        self.size = self.size + 1\n",
    "        print('%s enqueued to queue' %str(item))\n",
    "        \n",
    "        \n",
    "    def DeQueue(self):\n",
    "        if self.isEmpty():\n",
    "            print(\"Empty\")\n",
    "        print('%s is dequeued from queue'%str(self.Q[self.front]))\n",
    "        self.front = (self.front + 1) % self.capacity\n",
    "        self.size = self.size - 1\n",
    "        \n",
    "    def que_front(self):\n",
    "        if self.isEmpty():\n",
    "            print(\"Queue is empty\")\n",
    "        print(\"Front item is \",self.Q[self.front])\n",
    "    \n",
    "    def que_rear(self):\n",
    "        if self.isEmpty():\n",
    "            print(\"Queue is empty\")\n",
    "        print(\"Rear item is \",self.Q[self.rear])"
   ]
  },
  {
   "cell_type": "code",
   "execution_count": 8,
   "metadata": {},
   "outputs": [
    {
     "name": "stdout",
     "output_type": "stream",
     "text": [
      "10 enqueued to queue\n",
      "20 enqueued to queue\n",
      "30 enqueued to queue\n",
      "40 enqueued to queue\n",
      "10 is dequeued from queue\n",
      "Front item is  20\n",
      "Rear item is  40\n"
     ]
    }
   ],
   "source": [
    "if __name__ == '__main__':\n",
    "    queue = Queue(30)\n",
    "    queue.EnQueue(10) \n",
    "    queue.EnQueue(20) \n",
    "    queue.EnQueue(30) \n",
    "    queue.EnQueue(40) \n",
    "    queue.DeQueue() \n",
    "    queue.que_front() \n",
    "    queue.que_rear() "
   ]
  },
  {
   "cell_type": "markdown",
   "metadata": {},
   "source": [
    "Queue using linked list"
   ]
  },
  {
   "cell_type": "code",
   "execution_count": 9,
   "metadata": {},
   "outputs": [],
   "source": [
    "class Node:\n",
    "    def __init__(self,data):\n",
    "        self.data = data\n",
    "        self.next = None"
   ]
  },
  {
   "cell_type": "code",
   "execution_count": 18,
   "metadata": {},
   "outputs": [],
   "source": [
    "class Queue:\n",
    "    def __init__(self):\n",
    "        self.front = self.rear = None\n",
    "        \n",
    "    def isEmpty(self):\n",
    "        return self.front == None\n",
    "    \n",
    "    def EnQueue(self,item):\n",
    "        temp = Node(item)\n",
    "        \n",
    "        if self.rear == None:\n",
    "            self.front = self.rear = temp\n",
    "            return \n",
    "        self.rear.next = temp\n",
    "        self.rear = temp\n",
    "    \n",
    "    def DeQueue(self):\n",
    "        if self.isEmpty():\n",
    "            return\n",
    "        temp = self.front\n",
    "        self.front = temp.next\n",
    "        \n",
    "        if self.front == None:\n",
    "            self.rear = None\n",
    "            "
   ]
  },
  {
   "cell_type": "code",
   "execution_count": 19,
   "metadata": {},
   "outputs": [
    {
     "name": "stdout",
     "output_type": "stream",
     "text": [
      "Queue Front 30\n",
      "Queue Rear 50\n"
     ]
    }
   ],
   "source": [
    "if __name__ == '__main__':\n",
    "    q = Queue() \n",
    "    q.EnQueue(10) \n",
    "    q.EnQueue(20) \n",
    "    q.DeQueue() \n",
    "    q.DeQueue() \n",
    "    q.EnQueue(30) \n",
    "    q.EnQueue(40) \n",
    "    q.EnQueue(50)     \n",
    "    print(\"Queue Front \" + str(q.front.data)) \n",
    "    print(\"Queue Rear \" + str(q.rear.data)) "
   ]
  },
  {
   "cell_type": "code",
   "execution_count": null,
   "metadata": {},
   "outputs": [],
   "source": []
  }
 ],
 "metadata": {
  "kernelspec": {
   "display_name": "Python 3",
   "language": "python",
   "name": "python3"
  },
  "language_info": {
   "codemirror_mode": {
    "name": "ipython",
    "version": 3
   },
   "file_extension": ".py",
   "mimetype": "text/x-python",
   "name": "python",
   "nbconvert_exporter": "python",
   "pygments_lexer": "ipython3",
   "version": "3.7.3"
  }
 },
 "nbformat": 4,
 "nbformat_minor": 2
}
