{
 "cells": [
  {
   "cell_type": "markdown",
   "metadata": {},
   "source": [
    "Priority Queues are used to get max element or min element whenever the element is dequeued from the queue\n",
    "Insertion takes O(1) and dequeue takes O(n)"
   ]
  },
  {
   "cell_type": "code",
   "execution_count": null,
   "metadata": {},
   "outputs": [],
   "source": [
    "import random as rdm"
   ]
  },
  {
   "cell_type": "code",
   "execution_count": null,
   "metadata": {},
   "outputs": [],
   "source": [
    "class Queue:\n",
    "    def __init__(self):\n",
    "        self.Q = []\n",
    "        \n",
    "    def isEmpty(self):\n",
    "        return len(self.Q) == 0\n",
    "    \n",
    "    def __str__(self):\n",
    "        return ' '.join([str(i) for i in self.Q])\n",
    "    \n",
    "    def printQ(self):\n",
    "        print(' '.join([str(i) for i in self.Q]))\n",
    "    \n",
    "    def enqueue(self,item):\n",
    "        self.Q.append(item)\n",
    "        self.printQ()\n",
    "        \n",
    "    def dequeue(self):\n",
    "        if self.isEmpty():\n",
    "            print('Queue is empty')\n",
    "            return\n",
    "        max = 0\n",
    "        for i in range(len(self.Q)):\n",
    "            if self.Q[i] > self.Q[max]:\n",
    "                max = i\n",
    "        del self.Q[max]\n",
    "        self.printQ()\n",
    "            \n",
    "        "
   ]
  },
  {
   "cell_type": "code",
   "execution_count": null,
   "metadata": {},
   "outputs": [],
   "source": [
    "q = Queue()"
   ]
  },
  {
   "cell_type": "code",
   "execution_count": null,
   "metadata": {},
   "outputs": [],
   "source": [
    "print(q)"
   ]
  },
  {
   "cell_type": "code",
   "execution_count": null,
   "metadata": {},
   "outputs": [],
   "source": [
    "for i in range(0,11):\n",
    "    n = rdm.randint(0,10)\n",
    "    q.enqueue(n)"
   ]
  },
  {
   "cell_type": "code",
   "execution_count": null,
   "metadata": {},
   "outputs": [],
   "source": [
    "print(q)"
   ]
  },
  {
   "cell_type": "code",
   "execution_count": null,
   "metadata": {},
   "outputs": [],
   "source": [
    "q.dequeue()"
   ]
  }
 ],
 "metadata": {
  "kernelspec": {
   "display_name": "Python 3",
   "language": "python",
   "name": "python3"
  },
  "language_info": {
   "codemirror_mode": {
    "name": "ipython",
    "version": 3
   },
   "file_extension": ".py",
   "mimetype": "text/x-python",
   "name": "python",
   "nbconvert_exporter": "python",
   "pygments_lexer": "ipython3",
   "version": "3.7.3"
  }
 },
 "nbformat": 4,
 "nbformat_minor": 2
}
