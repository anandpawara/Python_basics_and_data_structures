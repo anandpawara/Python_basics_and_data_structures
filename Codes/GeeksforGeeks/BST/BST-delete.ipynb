{
 "cells": [
  {
   "cell_type": "code",
   "execution_count": null,
   "metadata": {},
   "outputs": [],
   "source": [
    "class Node:\n",
    "    def __init__(self,key):\n",
    "        self.key = key\n",
    "        self.left = None\n",
    "        self.right = None\n",
    "        \n",
    "    def inorder(root):\n",
    "        inorder(root.left)\n",
    "        print(root.key)\n",
    "        inorder(root.right)\n",
    "    \n",
    "    def insert(node,key):\n",
    "        if node is None:\n",
    "            return Node(key)\n",
    "        \n",
    "        if key < node.key:\n",
    "            node.left = insert(node.left,key)\n",
    "            \n",
    "        else:\n",
    "            node.right = insert(node.right, key)\n",
    "        \n",
    "        return node\n",
    "    \n",
    "    def minValueNode(node):\n",
    "        while(current.left is not None):\n",
    "            current = current.left\n",
    "        \n",
    "        return current\n",
    "    \n",
    "    def deleteNode(root, key):\n",
    "        \n",
    "    "
   ]
  }
 ],
 "metadata": {
  "kernelspec": {
   "display_name": "Python 3",
   "language": "python",
   "name": "python3"
  },
  "language_info": {
   "codemirror_mode": {
    "name": "ipython",
    "version": 3
   },
   "file_extension": ".py",
   "mimetype": "text/x-python",
   "name": "python",
   "nbconvert_exporter": "python",
   "pygments_lexer": "ipython3",
   "version": "3.7.3"
  }
 },
 "nbformat": 4,
 "nbformat_minor": 2
}
