{
 "cells": [
  {
   "cell_type": "markdown",
   "metadata": {},
   "source": [
    "<b>Naive method</b><br>\n",
    "Time complexity = O(n^2)<br>\n",
    "Space complexity = O(n)<br>\n",
    "\n",
    "Using 2 for loops: <br>\n",
    "For first for loop for every element and second to every element in the list with the item from the first for loop"
   ]
  },
  {
   "cell_type": "code",
   "execution_count": 9,
   "metadata": {},
   "outputs": [
    {
     "name": "stdout",
     "output_type": "stream",
     "text": [
      "[4, 0, 1, 1, 3]\n"
     ]
    }
   ],
   "source": [
    "def countNumbers(nums,number):\n",
    "    count = 0\n",
    "    for item in nums:\n",
    "        if item < number:\n",
    "            count += 1\n",
    "    return count\n",
    "\n",
    "\n",
    "nums = [8,1,2,2,3]\n",
    "result = []\n",
    "for i in range(len(nums)):\n",
    "   result.append(countNumbers(nums,nums[i]))\n",
    "print(result)\n"
   ]
  },
  {
   "cell_type": "code",
   "execution_count": 15,
   "metadata": {},
   "outputs": [
    {
     "name": "stdout",
     "output_type": "stream",
     "text": [
      "index: 0 , number :1\n",
      "index: 1 , number :2\n",
      "index: 2 , number :2\n",
      "index: 3 , number :3\n",
      "index: 4 , number :8\n"
     ]
    }
   ],
   "source": [
    "indices = {}\n",
    "for idx,num in enumerate(sorted(nums)):\n",
    "    indices.setdefault(num,idx)\n",
    "    print('index: {} , number :{}'.format(idx,num))"
   ]
  },
  {
   "cell_type": "code",
   "execution_count": 34,
   "metadata": {},
   "outputs": [
    {
     "name": "stdout",
     "output_type": "stream",
     "text": [
      "{1: 0, 2: 1, 3: 3, 8: 4}\n"
     ]
    }
   ],
   "source": [
    "print(indices)"
   ]
  },
  {
   "cell_type": "code",
   "execution_count": 37,
   "metadata": {},
   "outputs": [],
   "source": [
    "nums = [8,1,2,2,3]\n",
    "count = [0]*102"
   ]
  },
  {
   "cell_type": "code",
   "execution_count": 38,
   "metadata": {},
   "outputs": [
    {
     "name": "stdout",
     "output_type": "stream",
     "text": [
      "[4, 0, 1, 1, 3]\n"
     ]
    }
   ],
   "source": [
    "for num in nums:\n",
    "    count[num + 1] += 1\n",
    "for num in range(1,102):\n",
    "    count[num] += count[num-1]\n",
    "print([count[num] for num in nums])"
   ]
  },
  {
   "cell_type": "code",
   "execution_count": 49,
   "metadata": {},
   "outputs": [
    {
     "name": "stdout",
     "output_type": "stream",
     "text": [
      "{1: 0, 2: 1, 3: 3, 8: 4}\n"
     ]
    }
   ],
   "source": [
    "nums = [8,1,2,2,3]\n",
    "indices = {}\n",
    "\n",
    "for idx ,num in enumerate(sorted(nums)):\n",
    "    indices.setdefault(num,idx)\n",
    "print(indices)"
   ]
  },
  {
   "cell_type": "code",
   "execution_count": 50,
   "metadata": {},
   "outputs": [
    {
     "data": {
      "text/plain": [
       "0"
      ]
     },
     "execution_count": 50,
     "metadata": {},
     "output_type": "execute_result"
    }
   ],
   "source": [
    "indices[1]"
   ]
  },
  {
   "cell_type": "code",
   "execution_count": 54,
   "metadata": {},
   "outputs": [
    {
     "name": "stdout",
     "output_type": "stream",
     "text": [
      "[4, 0, 1, 1, 3]\n"
     ]
    }
   ],
   "source": [
    "indices = {}\n",
    "for idx,num in enumerate(sorted(nums)):\n",
    "    indices.setdefault(num,idx)\n",
    "print([indices[num] for num in nums])"
   ]
  },
  {
   "cell_type": "code",
   "execution_count": null,
   "metadata": {},
   "outputs": [],
   "source": []
  }
 ],
 "metadata": {
  "kernelspec": {
   "display_name": "Python 3",
   "language": "python",
   "name": "python3"
  },
  "language_info": {
   "codemirror_mode": {
    "name": "ipython",
    "version": 3
   },
   "file_extension": ".py",
   "mimetype": "text/x-python",
   "name": "python",
   "nbconvert_exporter": "python",
   "pygments_lexer": "ipython3",
   "version": "3.7.3"
  }
 },
 "nbformat": 4,
 "nbformat_minor": 2
}
