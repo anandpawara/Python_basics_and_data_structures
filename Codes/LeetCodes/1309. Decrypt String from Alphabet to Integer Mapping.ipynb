{
 "cells": [
  {
   "cell_type": "code",
   "execution_count": 1,
   "metadata": {},
   "outputs": [],
   "source": [
    "a = \"12345678910#11#12#13#14#15#16#17#\""
   ]
  },
  {
   "cell_type": "code",
   "execution_count": 2,
   "metadata": {},
   "outputs": [
    {
     "data": {
      "text/plain": [
       "33"
      ]
     },
     "execution_count": 2,
     "metadata": {},
     "output_type": "execute_result"
    }
   ],
   "source": [
    "len(a)"
   ]
  },
  {
   "cell_type": "code",
   "execution_count": 3,
   "metadata": {},
   "outputs": [
    {
     "name": "stdout",
     "output_type": "stream",
     "text": [
      "7\n"
     ]
    }
   ],
   "source": [
    "# res = a[::-2]\n",
    "res = a[-2]\n",
    "print(res)"
   ]
  },
  {
   "cell_type": "markdown",
   "metadata": {},
   "source": [
    "<b>Method 1<b>"
   ]
  },
  {
   "cell_type": "markdown",
   "metadata": {},
   "source": [
    "traversing the string in reverse and checking i-2 string for '#' the convert the number and add 96 and convert to char and append the result string and decrease with 3 letter and if i-2 is not '#' then decrease by 1 and get char value and append to resultant string and return string in reverse\n",
    "*Note this can also be in i = 0 to end "
   ]
  },
  {
   "cell_type": "code",
   "execution_count": 4,
   "metadata": {},
   "outputs": [
    {
     "name": "stdout",
     "output_type": "stream",
     "text": [
      "abcdefghijklmnopq\n"
     ]
    }
   ],
   "source": [
    "i = len(a) - 1\n",
    "result = ''\n",
    "while i>=0:\n",
    "    if a[i] == '#':\n",
    "#         print(chr(96+int(a[i-2:i])))\n",
    "        result = result + chr(96+int(a[i-2:i]))\n",
    "#         result = result + str(chr(96+int(a[i-2:i])))\n",
    "        i-=3\n",
    "    else:\n",
    "#         print(chr(96+int(a[i])))\n",
    "        result = result + chr(96+int(a[i]))\n",
    "        i -=1\n",
    "print(result[::-1])\n",
    "#     else:\n",
    "#         print(a[i])"
   ]
  },
  {
   "cell_type": "markdown",
   "metadata": {},
   "source": [
    "<b>Method 2<b>"
   ]
  },
  {
   "cell_type": "code",
   "execution_count": 5,
   "metadata": {},
   "outputs": [],
   "source": [
    "a = \"12345678910#11#12#13#\""
   ]
  },
  {
   "cell_type": "markdown",
   "metadata": {},
   "source": [
    "code breakdown for 1 line solution from leetcode"
   ]
  },
  {
   "cell_type": "code",
   "execution_count": 8,
   "metadata": {},
   "outputs": [
    {
     "name": "stdout",
     "output_type": "stream",
     "text": [
      "1\n",
      "2\n",
      "3\n",
      "4\n",
      "5\n",
      "6\n",
      "7\n",
      "8\n",
      "9\n",
      "10#\n",
      "11#\n",
      "12#\n",
      "13#\n"
     ]
    }
   ],
   "source": [
    "import re\n",
    "for i in re.findall(r'\\d\\d#|\\d',a):\n",
    "    print(i)"
   ]
  },
  {
   "cell_type": "code",
   "execution_count": 9,
   "metadata": {},
   "outputs": [
    {
     "name": "stdout",
     "output_type": "stream",
     "text": [
      "['1', '2', '3', '4', '5', '6', '7', '8', '9', '10#', '11#', '12#', '13#']\n"
     ]
    }
   ],
   "source": [
    "x = re.findall(r'\\d\\d#|\\d',a)\n",
    "print(x)"
   ]
  },
  {
   "cell_type": "markdown",
   "metadata": {},
   "source": [
    "re.findall(r'\\d\\d#|\\d',a)\n",
    "return a list where we pass the string and the regular expression is r'\\d\\d#|\\d where is find all the substring if substring with 2 digit is followed by '#' or only 1 digit not followed by '#' then add in the list"
   ]
  },
  {
   "cell_type": "markdown",
   "metadata": {},
   "source": [
    "then the resulted string slice the every element with length 2 convert the number to int as the element is in string and then add 96 to convert to ascii value of the string and then convert to chr then join the resultant char to the string"
   ]
  },
  {
   "cell_type": "code",
   "execution_count": 10,
   "metadata": {},
   "outputs": [
    {
     "name": "stdout",
     "output_type": "stream",
     "text": [
      "abcdefghijklm\n"
     ]
    }
   ],
   "source": [
    "res = ''.join(chr(int(i[:2]) + 96) for i in re.findall(r'\\d\\d#|\\d',a))\n",
    "print(res)"
   ]
  },
  {
   "cell_type": "markdown",
   "metadata": {},
   "source": [
    "<b>Method 3<b>"
   ]
  },
  {
   "cell_type": "code",
   "execution_count": 31,
   "metadata": {},
   "outputs": [],
   "source": [
    "s = \"12345678910#11#12#13#\""
   ]
  },
  {
   "cell_type": "code",
   "execution_count": 12,
   "metadata": {},
   "outputs": [
    {
     "name": "stdout",
     "output_type": "stream",
     "text": [
      "26\n",
      "25\n",
      "24\n",
      "23\n",
      "22\n",
      "21\n",
      "20\n",
      "19\n",
      "18\n",
      "17\n",
      "16\n",
      "15\n",
      "14\n",
      "13\n",
      "12\n",
      "11\n",
      "10\n",
      "9\n",
      "8\n",
      "7\n",
      "6\n",
      "5\n",
      "4\n",
      "3\n",
      "2\n",
      "1\n"
     ]
    }
   ],
   "source": [
    "for i in range(26,0,-1):\n",
    "    print(i)"
   ]
  },
  {
   "cell_type": "markdown",
   "metadata": {},
   "source": [
    "In this method we start with number 26 to 0 where whe find all i greater then 9 ,then replace the i + '#' with char(96 + i)\n",
    "we do this for all value till i = 0"
   ]
  },
  {
   "cell_type": "code",
   "execution_count": 32,
   "metadata": {},
   "outputs": [
    {
     "name": "stdout",
     "output_type": "stream",
     "text": [
      "12345678910#11#12#m\n"
     ]
    }
   ],
   "source": [
    "print(s.replace('13'+'#'*(13>9),chr(96+13)))"
   ]
  },
  {
   "cell_type": "markdown",
   "metadata": {},
   "source": [
    "'#'*(i>9) -> Means that if i is greater then 9 then replace the substring including # with the char value.<br>\n",
    "eg. if i = 13 , then find all substring with 13 and if 13 is > 9 then replace the substring including '#' letter"
   ]
  },
  {
   "cell_type": "code",
   "execution_count": 29,
   "metadata": {},
   "outputs": [
    {
     "name": "stdout",
     "output_type": "stream",
     "text": [
      "abcdefghijklm\n"
     ]
    }
   ],
   "source": [
    "for i in range(26,0,-1):\n",
    "    s = s.replace(str(i)+'#'*(i>9),chr(96+i))\n",
    "print(s)"
   ]
  },
  {
   "cell_type": "markdown",
   "metadata": {},
   "source": [
    "<b>Method 4(Using dictionary)<b>"
   ]
  },
  {
   "cell_type": "code",
   "execution_count": 25,
   "metadata": {},
   "outputs": [
    {
     "name": "stdout",
     "output_type": "stream",
     "text": [
      "{'1': 'a', '2': 'b', '3': 'c', '4': 'd', '5': 'e', '6': 'f', '7': 'g', '8': 'h', '9': 'i', '10': 'j', '11': 'k', '12': 'l', '13': 'm', '14': 'n', '15': 'o', '16': 'p', '17': 'q', '18': 'r', '19': 's', '20': 't', '21': 'u', '22': 'v', '23': 'w', '24': 'x', '25': 'y', '26': 'z'}\n"
     ]
    }
   ],
   "source": [
    "dict1 = {str(key):chr(96 + key) for key in range(1,27) } # Generating key value pair for alphabets\n",
    "print(dict1)"
   ]
  },
  {
   "cell_type": "code",
   "execution_count": 24,
   "metadata": {},
   "outputs": [
    {
     "name": "stdout",
     "output_type": "stream",
     "text": [
      "abcdefghijklm\n"
     ]
    }
   ],
   "source": [
    "s = '12345678910#11#12#13#'\n",
    "res = ''\n",
    "i = 0\n",
    "dict1 = {str(key):chr(96 + key) for key in range(1,27) }\n",
    "\n",
    "while i < len(s) :\n",
    "    if i+2 < len(s) and s[i+2]  == '#':\n",
    "        res = res+dict1[s[i:i+2]]\n",
    "        i += 3\n",
    "    else:\n",
    "        res = res + dict1[s[i:i+1]]\n",
    "        i += 1\n",
    "print(res)"
   ]
  },
  {
   "cell_type": "code",
   "execution_count": null,
   "metadata": {},
   "outputs": [],
   "source": []
  }
 ],
 "metadata": {
  "kernelspec": {
   "display_name": "Python 3",
   "language": "python",
   "name": "python3"
  },
  "language_info": {
   "codemirror_mode": {
    "name": "ipython",
    "version": 3
   },
   "file_extension": ".py",
   "mimetype": "text/x-python",
   "name": "python",
   "nbconvert_exporter": "python",
   "pygments_lexer": "ipython3",
   "version": "3.7.3"
  }
 },
 "nbformat": 4,
 "nbformat_minor": 2
}
