{
 "cells": [
  {
   "cell_type": "code",
   "execution_count": 5,
   "metadata": {},
   "outputs": [
    {
     "name": "stdout",
     "output_type": "stream",
     "text": [
      "{1, 2, 3, 5, 6}\n"
     ]
    }
   ],
   "source": [
    "nums = [2,2,1,1,3,3,5,5,6]\n",
    "print(set(nums))"
   ]
  },
  {
   "cell_type": "markdown",
   "metadata": {},
   "source": [
    "Method 1 "
   ]
  },
  {
   "cell_type": "raw",
   "metadata": {},
   "source": [
    "Using set:\n",
    "creating set of element of nums ,\n",
    "adding 2 * sum of all elements in set - sum of elements in nums"
   ]
  },
  {
   "cell_type": "code",
   "execution_count": 12,
   "metadata": {},
   "outputs": [
    {
     "name": "stdout",
     "output_type": "stream",
     "text": [
      "6\n"
     ]
    }
   ],
   "source": [
    "print(2 * sum(set(nums)) - sum(nums))"
   ]
  },
  {
   "cell_type": "markdown",
   "metadata": {},
   "source": [
    "Method 2"
   ]
  },
  {
   "cell_type": "raw",
   "metadata": {},
   "source": [
    "Create an new array to store element found for first time, if found second then remove that element,\n",
    "then the remaining element is element with on occurence\n",
    "Time complexity is O(n^2)"
   ]
  },
  {
   "cell_type": "code",
   "execution_count": 9,
   "metadata": {},
   "outputs": [
    {
     "name": "stdout",
     "output_type": "stream",
     "text": [
      "6\n"
     ]
    }
   ],
   "source": [
    "no_dup = []\n",
    "for i in nums:\n",
    "    if i not in no_dup:\n",
    "        no_dup.append(i)\n",
    "    else:\n",
    "        no_dup.remove(i)\n",
    "print(no_dup.pop())"
   ]
  },
  {
   "cell_type": "markdown",
   "metadata": {},
   "source": [
    "Method 3"
   ]
  },
  {
   "cell_type": "raw",
   "metadata": {},
   "source": [
    "Using hash table to avoid the O(n) time required to for searching the element but space complexity is O(n + n)\n",
    "1.Iterate through all element in nums to create key/value pair\n",
    "2.Return the element which appeared only one"
   ]
  },
  {
   "cell_type": "code",
   "execution_count": 11,
   "metadata": {},
   "outputs": [
    {
     "name": "stdout",
     "output_type": "stream",
     "text": [
      "6\n"
     ]
    }
   ],
   "source": [
    "from collections import defaultdict\n",
    "\n",
    "hash_table = defaultdict(int)\n",
    "for i in nums:\n",
    "    hash_table[i] += 1\n",
    "\n",
    "for i in hash_table:\n",
    "    if hash_table[i] == 1:\n",
    "        print(i)"
   ]
  },
  {
   "cell_type": "markdown",
   "metadata": {},
   "source": [
    "Method 4:(Using bit manipulation)"
   ]
  },
  {
   "cell_type": "code",
   "execution_count": null,
   "metadata": {},
   "outputs": [],
   "source": [
    "result = 0\n",
    "for ()"
   ]
  }
 ],
 "metadata": {
  "kernelspec": {
   "display_name": "Python 3",
   "language": "python",
   "name": "python3"
  },
  "language_info": {
   "codemirror_mode": {
    "name": "ipython",
    "version": 3
   },
   "file_extension": ".py",
   "mimetype": "text/x-python",
   "name": "python",
   "nbconvert_exporter": "python",
   "pygments_lexer": "ipython3",
   "version": "3.7.3"
  }
 },
 "nbformat": 4,
 "nbformat_minor": 2
}
