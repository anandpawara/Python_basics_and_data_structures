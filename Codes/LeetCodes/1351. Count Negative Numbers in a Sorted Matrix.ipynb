{
 "cells": [
  {
   "cell_type": "raw",
   "metadata": {},
   "source": [
    "Count negtive numbers in sorted matrix<br>\n",
    "Input : grid = [[4,3,2,-1],[3,2,1,-1],[1,1,-1,-2],[-1,-1,-2,-3]]\n",
    "Output = 8"
   ]
  },
  {
   "cell_type": "code",
   "execution_count": 3,
   "metadata": {},
   "outputs": [],
   "source": [
    "grid = [[4,3,2,-1],\n",
    "         [3,2,1,-1],\n",
    "         [1,1,-1,-2],\n",
    "         [-1,-1,-2,-3]]"
   ]
  },
  {
   "cell_type": "raw",
   "metadata": {},
   "source": [
    "Naive method:\n",
    "We can traverse each element in the matrix and count negative elements"
   ]
  },
  {
   "cell_type": "code",
   "execution_count": 5,
   "metadata": {},
   "outputs": [
    {
     "name": "stdout",
     "output_type": "stream",
     "text": [
      "8\n"
     ]
    }
   ],
   "source": [
    "count = 0\n",
    "for row in grid:\n",
    "    for element in row:\n",
    "        if element < 0:\n",
    "            count += 1\n",
    "print(count)"
   ]
  },
  {
   "cell_type": "markdown",
   "metadata": {},
   "source": [
    "A seen the time complexity is O(n^2)<br>\n",
    "and space complexity is O(1)"
   ]
  },
  {
   "cell_type": "raw",
   "metadata": {},
   "source": [
    "As given in the question the data elements in each row is sorted, so we can you that information to find the index of the negative element closest to zero using binary search, \n",
    "from that index till the last element = count of negative elements in that row\n",
    "repeat this for each row and add up the count "
   ]
  },
  {
   "cell_type": "code",
   "execution_count": null,
   "metadata": {},
   "outputs": [],
   "source": [
    "#Lets try for one row first\n",
    "row = [10,9,7,6,5,4,0,-1,-3,-4,-6]"
   ]
  }
 ],
 "metadata": {
  "kernelspec": {
   "display_name": "Python 3",
   "language": "python",
   "name": "python3"
  },
  "language_info": {
   "codemirror_mode": {
    "name": "ipython",
    "version": 3
   },
   "file_extension": ".py",
   "mimetype": "text/x-python",
   "name": "python",
   "nbconvert_exporter": "python",
   "pygments_lexer": "ipython3",
   "version": "3.7.3"
  }
 },
 "nbformat": 4,
 "nbformat_minor": 2
}
