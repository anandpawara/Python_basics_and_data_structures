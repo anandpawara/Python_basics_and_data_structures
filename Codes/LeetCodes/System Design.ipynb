{
 "cells": [
  {
   "cell_type": "markdown",
   "metadata": {},
   "source": [
    "<b>System design<b> "
   ]
  },
  {
   "cell_type": "markdown",
   "metadata": {},
   "source": [
    "Ask good question\n",
    "Dont use buzzwords(Dont ask unless have in depth knowledge)\n",
    "Clear and organized thinking\n",
    "Drive discussion(80% interviewee and 20% interviewer)\n"
   ]
  },
  {
   "cell_type": "markdown",
   "metadata": {},
   "source": [
    "1.Features\n",
    "Ask for list of features to figure out what to include and what not include\n"
   ]
  },
  {
   "cell_type": "markdown",
   "metadata": {},
   "source": [
    "2.Define APIs"
   ]
  },
  {
   "cell_type": "markdown",
   "metadata": {},
   "source": [
    "3.Availabiltity\n",
    "if host goes down what are process "
   ]
  },
  {
   "cell_type": "markdown",
   "metadata": {},
   "source": [
    "4.Latency Performance"
   ]
  },
  {
   "cell_type": "markdown",
   "metadata": {},
   "source": [
    "5.Scalability"
   ]
  },
  {
   "cell_type": "markdown",
   "metadata": {},
   "source": [
    "6.Durability \n",
    "involves database security and system is durable enough"
   ]
  },
  {
   "cell_type": "markdown",
   "metadata": {},
   "source": [
    "7.Class Diagram"
   ]
  },
  {
   "cell_type": "markdown",
   "metadata": {},
   "source": [
    "8.Security and Privacy"
   ]
  },
  {
   "cell_type": "markdown",
   "metadata": {},
   "source": [
    "9.Cost effective"
   ]
  },
  {
   "cell_type": "markdown",
   "metadata": {},
   "source": [
    "<b>Concepts and topic<b>"
   ]
  },
  {
   "cell_type": "markdown",
   "metadata": {},
   "source": [
    "1.Vertical vs Horizontal scaling(horizontal is more preferred)<br>\n",
    "2.CAP Theorem<br>\n",
    "3.ACID cs BASE(ACID is sql while BASE is used for noSql databases)<br>\n",
    "4.Partioning/Sharding data(How do you shard or split data such every part is responsible for every part of data)<br>\n",
    "5.Optimistic vs Pessimistic Locking<br>\n",
    "6.Strong vs eventual consistency(strong is used in nosql)<br>\n",
    "7.Relation DB vs NoSql(relation DB has acid properties)<br>\n",
    "8.Type of NoSQL:<br>\n",
    "    a.Key value<br>\n",
    "    b.wise column<br>\n",
    "    c.document based<br>\n",
    "    d.graph based<br>\n",
    "9.Caching(Speeding up request)<br>\n",
    "10.Data centers/Racks/Hosts<br>\n",
    "11.CPU/ Memory/ Ram/ Network badwidth<br>\n",
    "12.Random vs Sequential r/w on disk<br>\n",
    "13.Http vs http2 vs websockets<br>\n",
    "14.TCP/ Ip model<br>\n",
    "15.IPv4 vs IPv6<br>\n",
    "16.TCP vs UDP<br>\n",
    "17.DNS lookup<br>\n",
    "18.Https and TLS(transport layers security)<br>\n",
    "19.Public key infrastructure and certificate authority<br>\n",
    "20.Symmetric vs asymmetric encrption(asymmetric is computiationaly more expensive)<br>\n",
    "21.Load balancer ->L4 vs L7<br>\n",
    "22.CDNs and Edge(CDN-> content delivery network)<br>\n",
    "23.BLoom filters over distributed hosts<br>\n",
    "24.Paxos-Consensus over distributed hosts<br>\n",
    "    .leader election<br>\n",
    "25.Design patterns and object oriented design<br>\n",
    "26.Virtual machines and containers(containers is gaining popularity)<br>\n",
    "27.Publisher-Subscriber over queue<br>\n",
    "28.Map reduce(Used for distributed and parallel computing of data)<br>\n",
    "29.Multi threading ,concurrency ,locks, synchronization,LAS<br>\n",
    "\n"
   ]
  },
  {
   "cell_type": "markdown",
   "metadata": {},
   "source": [
    "<b>Implementation</b>"
   ]
  },
  {
   "cell_type": "markdown",
   "metadata": {},
   "source": [
    "1.Cassandra(Is wide column highly scalable database)<br>\n",
    "2.MongoDB/Couche base(MongoDB provide acid properties on file struture)<br>\n",
    "3.MySQL<br>\n",
    "4.Memecached<br>\n",
    "5.Redis<br>\n",
    "6.Zookeeper<br>\n",
    "7.Kafka<br>\n",
    "8.Kafka<br>\n",
    "9.NGinx<br>\n",
    "10.HAproxy<br>\n",
    "11.Solr,Elastic Search<br>\n",
    "12.Blobstrore like Amazon S3<br>\n",
    "13.Docker<br>\n",
    "    </t>.Kubernetes<br>\n",
    "    .Memos<br>\n",
    "14.Hadoop / Spark<br>\n",
    "    .HDFS<br>"
   ]
  },
  {
   "cell_type": "code",
   "execution_count": null,
   "metadata": {},
   "outputs": [],
   "source": []
  }
 ],
 "metadata": {
  "kernelspec": {
   "display_name": "Python 3",
   "language": "python",
   "name": "python3"
  },
  "language_info": {
   "codemirror_mode": {
    "name": "ipython",
    "version": 3
   },
   "file_extension": ".py",
   "mimetype": "text/x-python",
   "name": "python",
   "nbconvert_exporter": "python",
   "pygments_lexer": "ipython3",
   "version": "3.7.3"
  }
 },
 "nbformat": 4,
 "nbformat_minor": 2
}
