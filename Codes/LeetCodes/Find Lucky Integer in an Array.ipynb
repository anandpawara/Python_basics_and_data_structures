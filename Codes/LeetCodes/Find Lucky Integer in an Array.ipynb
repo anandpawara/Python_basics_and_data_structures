{
 "cells": [
  {
   "cell_type": "code",
   "execution_count": null,
   "metadata": {},
   "outputs": [],
   "source": [
    "\n",
    "class Solution:\n",
    "    def findLucky(self, arr: List[int]) -> int:\n",
    "        res = {i:arr.count(i) for i in set(arr)}\n",
    "        \n",
    "        count = []\n",
    "        \n",
    "        for item in res:\n",
    "            if item == res[item]:\n",
    "                count.append(item)\n",
    "        \n",
    "        if len(count) == 0:\n",
    "            return -1\n",
    "        return max(count)\n",
    "        "
   ]
  }
 ],
 "metadata": {
  "kernelspec": {
   "display_name": "Python 3",
   "language": "python",
   "name": "python3"
  },
  "language_info": {
   "codemirror_mode": {
    "name": "ipython",
    "version": 3
   },
   "file_extension": ".py",
   "mimetype": "text/x-python",
   "name": "python",
   "nbconvert_exporter": "python",
   "pygments_lexer": "ipython3",
   "version": "3.7.3"
  }
 },
 "nbformat": 4,
 "nbformat_minor": 2
}
