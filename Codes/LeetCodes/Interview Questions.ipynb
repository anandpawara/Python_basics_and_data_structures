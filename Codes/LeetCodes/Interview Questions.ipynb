{
 "cells": [
  {
   "cell_type": "markdown",
   "metadata": {},
   "source": [
    "Q2.How would you setup many projects where each one uses different versions of Python and third party libraries?\n",
    "\n",
    "Q3.What is PEP8 and do you follow its guidelines when you're coding?\n",
    "\n",
    "Q4.How are arguments passed – by reference of by value? (easy, but not that easy, I'm not sure if I can answer this clearly)\n",
    "\n",
    "Q5.Do you know what list and dict comprehensions are? Can you give an example?\n",
    "\n",
    "Q6.Show me three different ways of fetching every third item in the list\n",
    "\n",
    "Q7.Do you know what is the difference between lists and tuples? Can you give me an example for their usage?\n",
    "\n",
    "Q8.Do you know the difference between range and xrange?\n",
    "\n",
    "Q9.Tell me a few differences between Python 2.x and 3.x?\n",
    "\n",
    "Q10.The with statement and its usage.\n",
    "\n",
    "Q11.How to avoid cyclical imports without having to resort to imports in functions?\n",
    "\n",
    "Q12.what's wrong with import all?\n",
    "\n",
    "Q13.Why is the GIL important? (This actually puzzles me, don't know the answer)\n",
    "\n",
    "Q14.What are \"special\" methods (<foo>), how they work, etc\n",
    "\n",
    "Q15.can you manipulate functions as first-class objects?\n",
    "\n",
    "Q16.the difference between \"class Foo\" and \"class Foo(object)\"\n",
    "\n",
    "Q17.how to read a 8GB file in python?\n",
    "\n",
    "Q18.what don't you like about Python?\n",
    "\n",
    "Q19.can you convert ascii characters to an integer without using built in methods like string.atoi or int()? curious one\n",
    "\n",
    "Q.What are closures?\n",
    "\n",
    "Q.What are first class functions?\n"
   ]
  },
  {
   "cell_type": "markdown",
   "metadata": {},
   "source": [
    "<b>Q.What are Python decorators and how would you use them?<b><br>\n",
    " "
   ]
  },
  {
   "cell_type": "markdown",
   "metadata": {},
   "source": []
  },
  {
   "cell_type": "markdown",
   "metadata": {},
   "source": [
    "<b>Q.What are first class functions?<b>"
   ]
  },
  {
   "cell_type": "code",
   "execution_count": 1,
   "metadata": {},
   "outputs": [
    {
     "name": "stdout",
     "output_type": "stream",
     "text": [
      "<function square at 0x00000200B849F158>\n",
      "25\n"
     ]
    }
   ],
   "source": [
    "def square(x):\n",
    "    return x*x\n",
    "f = square(5)\n",
    "print(square)\n",
    "print(f)"
   ]
  },
  {
   "cell_type": "code",
   "execution_count": 2,
   "metadata": {},
   "outputs": [
    {
     "name": "stdout",
     "output_type": "stream",
     "text": [
      "<function square at 0x00000200B849F158>\n"
     ]
    }
   ],
   "source": [
    "f = square\n",
    "print(f)"
   ]
  },
  {
   "cell_type": "code",
   "execution_count": 3,
   "metadata": {},
   "outputs": [
    {
     "name": "stdout",
     "output_type": "stream",
     "text": [
      "25\n"
     ]
    }
   ],
   "source": [
    "print(f(5))"
   ]
  },
  {
   "cell_type": "markdown",
   "metadata": {},
   "source": [
    "First class object in a languages are handled uniformly.They may be stored in data structures,pass as arguments or used in control structures.<br>\n",
    "A programming language is said to support first class function if it treats functions like first class object"
   ]
  },
  {
   "cell_type": "markdown",
   "metadata": {},
   "source": [
    "<br>Properties of first class functions:<br>\n",
    ". Functions is an instance of the object type<br>\n",
    ". You can store the function in a variable<br>\n",
    ". You can pass a functino as a parameter in another function<br>\n",
    ". You can return function from a function<br>\n",
    ". You can store function in data structures<br>"
   ]
  },
  {
   "cell_type": "markdown",
   "metadata": {},
   "source": [
    "<b>Functions are objects</b><br>\n",
    "In the below example we are assining function to a variable.This assignment doesn't call the function.<br>\n",
    "It takes function object referenced by shout and assigns it to yell as well."
   ]
  },
  {
   "cell_type": "code",
   "execution_count": 4,
   "metadata": {},
   "outputs": [
    {
     "name": "stdout",
     "output_type": "stream",
     "text": [
      "HELLO\n",
      "HOW ARE YOU\n"
     ]
    }
   ],
   "source": [
    "def shout(text):\n",
    "    return text.upper()\n",
    "print(shout('Hello'))\n",
    "\n",
    "yell = shout\n",
    "print(yell('How are you'))"
   ]
  },
  {
   "cell_type": "markdown",
   "metadata": {},
   "source": [
    "<b>Functions can be passed as arguments to other functions.</b><br>\n",
    "Because functions are object we can pass them as arguments to other functions called Higher Order Functions"
   ]
  },
  {
   "cell_type": "code",
   "execution_count": 6,
   "metadata": {},
   "outputs": [
    {
     "name": "stdout",
     "output_type": "stream",
     "text": [
      "HELLO HOW ARE YOU\n",
      "hello how are you\n"
     ]
    }
   ],
   "source": [
    "def shout(text):\n",
    "    return text.upper()\n",
    "def whisper(text):\n",
    "    return text.lower()\n",
    "\n",
    "def greet(func): # Higher order function\n",
    "    greeting = func('Hello how are you')\n",
    "    print(greeting)\n",
    "    \n",
    "greet(shout)\n",
    "greet(whisper)"
   ]
  },
  {
   "cell_type": "code",
   "execution_count": null,
   "metadata": {},
   "outputs": [],
   "source": []
  }
 ],
 "metadata": {
  "kernelspec": {
   "display_name": "Python 3",
   "language": "python",
   "name": "python3"
  },
  "language_info": {
   "codemirror_mode": {
    "name": "ipython",
    "version": 3
   },
   "file_extension": ".py",
   "mimetype": "text/x-python",
   "name": "python",
   "nbconvert_exporter": "python",
   "pygments_lexer": "ipython3",
   "version": "3.7.3"
  }
 },
 "nbformat": 4,
 "nbformat_minor": 2
}
