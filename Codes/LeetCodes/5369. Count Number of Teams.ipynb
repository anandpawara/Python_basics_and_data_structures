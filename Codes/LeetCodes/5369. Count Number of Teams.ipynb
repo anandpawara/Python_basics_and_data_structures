{
 "cells": [
  {
   "cell_type": "code",
   "execution_count": 15,
   "metadata": {},
   "outputs": [],
   "source": [
    "rating = [2,5,3,4,1]"
   ]
  },
  {
   "cell_type": "code",
   "execution_count": 19,
   "metadata": {},
   "outputs": [
    {
     "name": "stdout",
     "output_type": "stream",
     "text": [
      "2 3 4\n",
      "5 3 1\n",
      "5 4 1\n",
      "3\n"
     ]
    }
   ],
   "source": [
    "count = 0\n",
    "\n",
    "for i in range(0,len(rating) - 2):\n",
    "    for j in range(i+ 1,len(rating) -1):\n",
    "        for k in range(j+ 1,len(rating)):\n",
    "            if rating[i] > rating[j] and rating[j] > rating[k]:\n",
    "                count += 1\n",
    "                print(rating[i],rating[j],rating[k])\n",
    "            elif rating[i] < rating[j] and rating[j] < rating[k]:\n",
    "                count += 1\n",
    "                print(rating[i],rating[j],rating[k])\n",
    "print(count)"
   ]
  },
  {
   "cell_type": "code",
   "execution_count": null,
   "metadata": {},
   "outputs": [],
   "source": []
  }
 ],
 "metadata": {
  "kernelspec": {
   "display_name": "Python 3",
   "language": "python",
   "name": "python3"
  },
  "language_info": {
   "codemirror_mode": {
    "name": "ipython",
    "version": 3
   },
   "file_extension": ".py",
   "mimetype": "text/x-python",
   "name": "python",
   "nbconvert_exporter": "python",
   "pygments_lexer": "ipython3",
   "version": "3.7.3"
  }
 },
 "nbformat": 4,
 "nbformat_minor": 2
}
