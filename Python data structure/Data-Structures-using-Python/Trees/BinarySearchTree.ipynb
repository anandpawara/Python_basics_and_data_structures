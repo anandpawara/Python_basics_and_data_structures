{
 "cells": [
  {
   "cell_type": "code",
   "execution_count": 1,
   "metadata": {},
   "outputs": [],
   "source": [
    "class Node(object):\n",
    "    def __init__(self,data):\n",
    "        self.data = data\n",
    "        self.rightChild = right\n",
    "        self.leftChild = left\n",
    "        \n",
    "    def insert(self,data):\n",
    "        if self.data == data:\n",
    "            return false #Because BST cannot contain duplicate values\n",
    "        elif data < self.data:\n",
    "            if data < self.leftChild:\n",
    "                return self.leftChild.insert(data)\n",
    "            else:\n",
    "                self.leftChild = Node(data)\n",
    "                return True\n",
    "        else:\n",
    "            if data > self.rightChild:\n",
    "                return self.rightChild.insert(data)\n",
    "            else:\n",
    "                self.rightChild = Node(data)\n",
    "                return True\n",
    "            \n",
    "    def minValueNode(self,node):\n",
    "        current = node\n",
    "        \n",
    "        while(current.leftChild is not None):\n",
    "            current = current.leftChild\n",
    "        return current\n",
    "    \n",
    "    def delete(self,data):\n",
    "        \n",
    "                "
   ]
  },
  {
   "cell_type": "code",
   "execution_count": null,
   "metadata": {},
   "outputs": [],
   "source": []
  }
 ],
 "metadata": {
  "kernelspec": {
   "display_name": "Python 3",
   "language": "python",
   "name": "python3"
  },
  "language_info": {
   "codemirror_mode": {
    "name": "ipython",
    "version": 3
   },
   "file_extension": ".py",
   "mimetype": "text/x-python",
   "name": "python",
   "nbconvert_exporter": "python",
   "pygments_lexer": "ipython3",
   "version": "3.7.3"
  }
 },
 "nbformat": 4,
 "nbformat_minor": 2
}
